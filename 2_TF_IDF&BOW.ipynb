{
  "nbformat": 4,
  "nbformat_minor": 0,
  "metadata": {
    "colab": {
      "provenance": []
    },
    "kernelspec": {
      "name": "python3",
      "display_name": "Python 3"
    },
    "language_info": {
      "name": "python"
    }
  },
  "cells": [
    {
      "cell_type": "markdown",
      "source": [
        "# Vectorization\n",
        "\n",
        "## Aim: To implement vectorization using TFIDF and Bag of Words."
      ],
      "metadata": {
        "id": "Vu4l_zZztNlb"
      }
    },
    {
      "cell_type": "code",
      "source": [
        "pip install contractions -q"
      ],
      "metadata": {
        "id": "imDY_E6k068m"
      },
      "execution_count": null,
      "outputs": []
    },
    {
      "cell_type": "code",
      "source": [
        "pip install advertools -q"
      ],
      "metadata": {
        "id": "qz7DthQ5075Q"
      },
      "execution_count": null,
      "outputs": []
    },
    {
      "cell_type": "code",
      "execution_count": null,
      "metadata": {
        "id": "arBD4Jw00wlT"
      },
      "outputs": [],
      "source": [
        "import pandas as pd\n",
        "import numpy as np\n",
        "import nltk\n",
        "from nltk.corpus import stopwords\n",
        "from nltk.tokenize import word_tokenize\n",
        "import advertools as adv\n",
        "import re\n",
        "import contractions\n",
        "from sklearn.feature_extraction.text import TfidfVectorizer,CountVectorizer\n",
        "import warnings\n",
        "warnings.filterwarnings('ignore')"
      ]
    },
    {
      "cell_type": "code",
      "source": [
        "nltk.download('stopwords')\n",
        "nltk.download('punkt')"
      ],
      "metadata": {
        "colab": {
          "base_uri": "https://localhost:8080/"
        },
        "id": "sg4iASSD1VmV",
        "outputId": "d2bac871-9f5a-4aab-8033-632436ffc45b"
      },
      "execution_count": null,
      "outputs": [
        {
          "output_type": "stream",
          "name": "stderr",
          "text": [
            "[nltk_data] Downloading package stopwords to /root/nltk_data...\n",
            "[nltk_data]   Package stopwords is already up-to-date!\n",
            "[nltk_data] Downloading package punkt to /root/nltk_data...\n",
            "[nltk_data]   Package punkt is already up-to-date!\n"
          ]
        },
        {
          "output_type": "execute_result",
          "data": {
            "text/plain": [
              "True"
            ]
          },
          "metadata": {},
          "execution_count": 20
        }
      ]
    },
    {
      "cell_type": "code",
      "source": [
        "txt1='Game of thrones is an amazing TV series'\n",
        "txt2='Game of Thrones is the best TV series'\n",
        "txt3='Game of Thrones is so great'\n",
        "txt4='The series Game of Thrones is so boring'"
      ],
      "metadata": {
        "id": "IUwDss14N5XK"
      },
      "execution_count": null,
      "outputs": []
    },
    {
      "cell_type": "code",
      "source": [
        "lst=[]\n",
        "for i in [txt1,txt2,txt3,txt4]:\n",
        "  lst.append(i)\n",
        "print(lst)"
      ],
      "metadata": {
        "id": "bP_W403aN5Tu",
        "colab": {
          "base_uri": "https://localhost:8080/"
        },
        "outputId": "2c917893-4580-4763-913f-3630d3af192a"
      },
      "execution_count": null,
      "outputs": [
        {
          "output_type": "stream",
          "name": "stdout",
          "text": [
            "['Game of thrones is an amazing TV series', 'Game of Thrones is the best TV series', 'Game of Thrones is so great', 'The series Game of Thrones is so boring']\n"
          ]
        }
      ]
    },
    {
      "cell_type": "code",
      "source": [
        "tf = TfidfVectorizer(analyzer='word',stop_words= 'english')\n",
        "tf_wm = tf.fit_transform(lst)\n",
        "print('IDF Values ')\n",
        "for w1, w2 in zip(tf.get_feature_names_out(), tf.idf_):\n",
        "    print(w1, ':', w2)\n",
        "print()\n",
        "tf_tokens = tf.get_feature_names_out()\n",
        "df = pd.DataFrame(data = tf_wm.toarray(),index = ['txt1','txt2','txt3','txt4'],\n",
        "                  columns = tf_tokens)\n",
        "print('TF-IDF')\n",
        "display(df)"
      ],
      "metadata": {
        "id": "iAHjD82hN5R_",
        "colab": {
          "base_uri": "https://localhost:8080/",
          "height": 366
        },
        "outputId": "a6c25189-6ef7-4334-aaae-ff7b3615d76c"
      },
      "execution_count": null,
      "outputs": [
        {
          "output_type": "stream",
          "name": "stdout",
          "text": [
            "IDF Values \n",
            "amazing : 1.916290731874155\n",
            "best : 1.916290731874155\n",
            "boring : 1.916290731874155\n",
            "game : 1.0\n",
            "great : 1.916290731874155\n",
            "series : 1.2231435513142097\n",
            "thrones : 1.0\n",
            "tv : 1.5108256237659907\n",
            "\n",
            "TF-IDF\n"
          ]
        },
        {
          "output_type": "display_data",
          "data": {
            "text/plain": [
              "       amazing      best    boring      game     great    series   thrones  \\\n",
              "txt1  0.623342  0.000000  0.000000  0.325285  0.000000  0.397871  0.325285   \n",
              "txt2  0.000000  0.623342  0.000000  0.325285  0.000000  0.397871  0.325285   \n",
              "txt3  0.000000  0.000000  0.000000  0.419880  0.804612  0.000000  0.419880   \n",
              "txt4  0.000000  0.000000  0.715739  0.373502  0.000000  0.456847  0.373502   \n",
              "\n",
              "           tv  \n",
              "txt1  0.49145  \n",
              "txt2  0.49145  \n",
              "txt3  0.00000  \n",
              "txt4  0.00000  "
            ],
            "text/html": [
              "\n",
              "  <div id=\"df-726357fe-099b-45be-a6e4-11a810f55a47\">\n",
              "    <div class=\"colab-df-container\">\n",
              "      <div>\n",
              "<style scoped>\n",
              "    .dataframe tbody tr th:only-of-type {\n",
              "        vertical-align: middle;\n",
              "    }\n",
              "\n",
              "    .dataframe tbody tr th {\n",
              "        vertical-align: top;\n",
              "    }\n",
              "\n",
              "    .dataframe thead th {\n",
              "        text-align: right;\n",
              "    }\n",
              "</style>\n",
              "<table border=\"1\" class=\"dataframe\">\n",
              "  <thead>\n",
              "    <tr style=\"text-align: right;\">\n",
              "      <th></th>\n",
              "      <th>amazing</th>\n",
              "      <th>best</th>\n",
              "      <th>boring</th>\n",
              "      <th>game</th>\n",
              "      <th>great</th>\n",
              "      <th>series</th>\n",
              "      <th>thrones</th>\n",
              "      <th>tv</th>\n",
              "    </tr>\n",
              "  </thead>\n",
              "  <tbody>\n",
              "    <tr>\n",
              "      <th>txt1</th>\n",
              "      <td>0.623342</td>\n",
              "      <td>0.000000</td>\n",
              "      <td>0.000000</td>\n",
              "      <td>0.325285</td>\n",
              "      <td>0.000000</td>\n",
              "      <td>0.397871</td>\n",
              "      <td>0.325285</td>\n",
              "      <td>0.49145</td>\n",
              "    </tr>\n",
              "    <tr>\n",
              "      <th>txt2</th>\n",
              "      <td>0.000000</td>\n",
              "      <td>0.623342</td>\n",
              "      <td>0.000000</td>\n",
              "      <td>0.325285</td>\n",
              "      <td>0.000000</td>\n",
              "      <td>0.397871</td>\n",
              "      <td>0.325285</td>\n",
              "      <td>0.49145</td>\n",
              "    </tr>\n",
              "    <tr>\n",
              "      <th>txt3</th>\n",
              "      <td>0.000000</td>\n",
              "      <td>0.000000</td>\n",
              "      <td>0.000000</td>\n",
              "      <td>0.419880</td>\n",
              "      <td>0.804612</td>\n",
              "      <td>0.000000</td>\n",
              "      <td>0.419880</td>\n",
              "      <td>0.00000</td>\n",
              "    </tr>\n",
              "    <tr>\n",
              "      <th>txt4</th>\n",
              "      <td>0.000000</td>\n",
              "      <td>0.000000</td>\n",
              "      <td>0.715739</td>\n",
              "      <td>0.373502</td>\n",
              "      <td>0.000000</td>\n",
              "      <td>0.456847</td>\n",
              "      <td>0.373502</td>\n",
              "      <td>0.00000</td>\n",
              "    </tr>\n",
              "  </tbody>\n",
              "</table>\n",
              "</div>\n",
              "      <button class=\"colab-df-convert\" onclick=\"convertToInteractive('df-726357fe-099b-45be-a6e4-11a810f55a47')\"\n",
              "              title=\"Convert this dataframe to an interactive table.\"\n",
              "              style=\"display:none;\">\n",
              "        \n",
              "  <svg xmlns=\"http://www.w3.org/2000/svg\" height=\"24px\"viewBox=\"0 0 24 24\"\n",
              "       width=\"24px\">\n",
              "    <path d=\"M0 0h24v24H0V0z\" fill=\"none\"/>\n",
              "    <path d=\"M18.56 5.44l.94 2.06.94-2.06 2.06-.94-2.06-.94-.94-2.06-.94 2.06-2.06.94zm-11 1L8.5 8.5l.94-2.06 2.06-.94-2.06-.94L8.5 2.5l-.94 2.06-2.06.94zm10 10l.94 2.06.94-2.06 2.06-.94-2.06-.94-.94-2.06-.94 2.06-2.06.94z\"/><path d=\"M17.41 7.96l-1.37-1.37c-.4-.4-.92-.59-1.43-.59-.52 0-1.04.2-1.43.59L10.3 9.45l-7.72 7.72c-.78.78-.78 2.05 0 2.83L4 21.41c.39.39.9.59 1.41.59.51 0 1.02-.2 1.41-.59l7.78-7.78 2.81-2.81c.8-.78.8-2.07 0-2.86zM5.41 20L4 18.59l7.72-7.72 1.47 1.35L5.41 20z\"/>\n",
              "  </svg>\n",
              "      </button>\n",
              "      \n",
              "  <style>\n",
              "    .colab-df-container {\n",
              "      display:flex;\n",
              "      flex-wrap:wrap;\n",
              "      gap: 12px;\n",
              "    }\n",
              "\n",
              "    .colab-df-convert {\n",
              "      background-color: #E8F0FE;\n",
              "      border: none;\n",
              "      border-radius: 50%;\n",
              "      cursor: pointer;\n",
              "      display: none;\n",
              "      fill: #1967D2;\n",
              "      height: 32px;\n",
              "      padding: 0 0 0 0;\n",
              "      width: 32px;\n",
              "    }\n",
              "\n",
              "    .colab-df-convert:hover {\n",
              "      background-color: #E2EBFA;\n",
              "      box-shadow: 0px 1px 2px rgba(60, 64, 67, 0.3), 0px 1px 3px 1px rgba(60, 64, 67, 0.15);\n",
              "      fill: #174EA6;\n",
              "    }\n",
              "\n",
              "    [theme=dark] .colab-df-convert {\n",
              "      background-color: #3B4455;\n",
              "      fill: #D2E3FC;\n",
              "    }\n",
              "\n",
              "    [theme=dark] .colab-df-convert:hover {\n",
              "      background-color: #434B5C;\n",
              "      box-shadow: 0px 1px 3px 1px rgba(0, 0, 0, 0.15);\n",
              "      filter: drop-shadow(0px 1px 2px rgba(0, 0, 0, 0.3));\n",
              "      fill: #FFFFFF;\n",
              "    }\n",
              "  </style>\n",
              "\n",
              "      <script>\n",
              "        const buttonEl =\n",
              "          document.querySelector('#df-726357fe-099b-45be-a6e4-11a810f55a47 button.colab-df-convert');\n",
              "        buttonEl.style.display =\n",
              "          google.colab.kernel.accessAllowed ? 'block' : 'none';\n",
              "\n",
              "        async function convertToInteractive(key) {\n",
              "          const element = document.querySelector('#df-726357fe-099b-45be-a6e4-11a810f55a47');\n",
              "          const dataTable =\n",
              "            await google.colab.kernel.invokeFunction('convertToInteractive',\n",
              "                                                     [key], {});\n",
              "          if (!dataTable) return;\n",
              "\n",
              "          const docLinkHtml = 'Like what you see? Visit the ' +\n",
              "            '<a target=\"_blank\" href=https://colab.research.google.com/notebooks/data_table.ipynb>data table notebook</a>'\n",
              "            + ' to learn more about interactive tables.';\n",
              "          element.innerHTML = '';\n",
              "          dataTable['output_type'] = 'display_data';\n",
              "          await google.colab.output.renderOutput(dataTable, element);\n",
              "          const docLink = document.createElement('div');\n",
              "          docLink.innerHTML = docLinkHtml;\n",
              "          element.appendChild(docLink);\n",
              "        }\n",
              "      </script>\n",
              "    </div>\n",
              "  </div>\n",
              "  "
            ]
          },
          "metadata": {}
        }
      ]
    },
    {
      "cell_type": "code",
      "source": [
        "# Bag of words"
      ],
      "metadata": {
        "id": "VguB6_I0YgoV"
      },
      "execution_count": null,
      "outputs": []
    },
    {
      "cell_type": "code",
      "source": [
        "class BOW:\n",
        "\n",
        "  def __init__(self,text):\n",
        "    self.ltext=text.lower()\n",
        "    self.text=contractions.fix(self.ltext)\n",
        "    self.stop_words=set(adv.stopwords['english'])\n",
        "\n",
        "  def remove_quotes_brackets(self):\n",
        "    self.text1=re.sub(\"[\\\"\\'\\(\\)]\", \"\", self.text)\n",
        "    return self.text1\n",
        "\n",
        "  def remove_punctuations(self,text):\n",
        "    text1=re.sub(r\"[^\\w\\s]\", \" \",text)\n",
        "    return text1\n",
        "\n",
        "  def tokenize(self,text):\n",
        "    self.t_text=word_tokenize(text)\n",
        "    return self.t_text\n",
        "\n",
        "  def stop_word(self,text):\n",
        "    self.sw=[]\n",
        "    for i in text:\n",
        "      if i not in self.stop_words:\n",
        "        self.sw.append(i)\n",
        "    return self.sw\n",
        "\n",
        "  def count(self,lst):\n",
        "    d={}\n",
        "    for i in lst:\n",
        "      d[i]=lst.count(i)\n",
        "    return d\n",
        "\n",
        "  def preprocess(self):\n",
        "    q_text=self.remove_quotes_brackets()\n",
        "    p_text=self.remove_punctuations(q_text)\n",
        "    t_text=self.tokenize(p_text)\n",
        "    swtext=self.stop_word(t_text)\n",
        "    word=' '.join(swtext)\n",
        "    ctext=self.count(swtext)\n",
        "    return t_text,swtext,ctext,word"
      ],
      "metadata": {
        "id": "Gx5Kj7IzYgkj"
      },
      "execution_count": null,
      "outputs": []
    },
    {
      "cell_type": "code",
      "source": [
        "for i in [txt1,txt2,txt3,txt4]:\n",
        "  print()\n",
        "  t=BOW(i)\n",
        "  tkn,stp,cnt,wrd=t.preprocess()\n",
        "  print('\\nTokenized text',tkn)\n",
        "  print('\\nAfter stop word removal',stp)\n",
        "  print('\\nAfter stop words removal',wrd)\n",
        "  print('\\nCount of words\\n',cnt)"
      ],
      "metadata": {
        "id": "n2tnBa72Ygiy",
        "colab": {
          "base_uri": "https://localhost:8080/"
        },
        "outputId": "6af4b57a-9ac4-48a1-f4a5-984593a2a7c2"
      },
      "execution_count": null,
      "outputs": [
        {
          "output_type": "stream",
          "name": "stdout",
          "text": [
            "\n",
            "\n",
            "Tokenized text ['game', 'of', 'thrones', 'is', 'an', 'amazing', 'tv', 'series']\n",
            "\n",
            "After stop word removal ['game', 'thrones', 'amazing', 'tv', 'series']\n",
            "\n",
            "After stop words removal game thrones amazing tv series\n",
            "\n",
            "Count of words\n",
            " {'game': 1, 'thrones': 1, 'amazing': 1, 'tv': 1, 'series': 1}\n",
            "\n",
            "\n",
            "Tokenized text ['game', 'of', 'thrones', 'is', 'the', 'best', 'tv', 'series']\n",
            "\n",
            "After stop word removal ['game', 'thrones', 'best', 'tv', 'series']\n",
            "\n",
            "After stop words removal game thrones best tv series\n",
            "\n",
            "Count of words\n",
            " {'game': 1, 'thrones': 1, 'best': 1, 'tv': 1, 'series': 1}\n",
            "\n",
            "\n",
            "Tokenized text ['game', 'of', 'thrones', 'is', 'so', 'great']\n",
            "\n",
            "After stop word removal ['game', 'thrones', 'great']\n",
            "\n",
            "After stop words removal game thrones great\n",
            "\n",
            "Count of words\n",
            " {'game': 1, 'thrones': 1, 'great': 1}\n",
            "\n",
            "\n",
            "Tokenized text ['the', 'series', 'game', 'of', 'thrones', 'is', 'so', 'boring']\n",
            "\n",
            "After stop word removal ['series', 'game', 'thrones', 'boring']\n",
            "\n",
            "After stop words removal series game thrones boring\n",
            "\n",
            "Count of words\n",
            " {'series': 1, 'game': 1, 'thrones': 1, 'boring': 1}\n"
          ]
        }
      ]
    },
    {
      "cell_type": "code",
      "source": [
        "t1=BOW(txt1)\n",
        "tkn1,stp1,cnt1,wrd1=t1.preprocess()\n",
        "t2=BOW(txt2)\n",
        "tkn2,stp2,cnt2,wrd2=t2.preprocess()\n",
        "t3=BOW(txt3)\n",
        "tkn3,stp3,cnt3,wrd3=t3.preprocess()\n",
        "t4=BOW(txt4)\n",
        "tkn4,stp4,cnt4,wrd4=t4.preprocess()"
      ],
      "metadata": {
        "id": "cKE-0cMbsiSg"
      },
      "execution_count": null,
      "outputs": []
    },
    {
      "cell_type": "code",
      "source": [
        "lst=[]\n",
        "lst.append(wrd1)\n",
        "lst.append(wrd2)\n",
        "lst.append(wrd3)\n",
        "lst.append(wrd4)\n",
        "print(lst)"
      ],
      "metadata": {
        "colab": {
          "base_uri": "https://localhost:8080/"
        },
        "id": "XniNwhVRsjq2",
        "outputId": "dc65221a-336e-4b8f-9cb7-2844d7464267"
      },
      "execution_count": null,
      "outputs": [
        {
          "output_type": "stream",
          "name": "stdout",
          "text": [
            "['game thrones amazing tv series', 'game thrones best tv series', 'game thrones great', 'series game thrones boring']\n"
          ]
        }
      ]
    },
    {
      "cell_type": "code",
      "source": [
        "vect = CountVectorizer()\n",
        "vect.fit(lst)\n",
        "v=vect.transform(lst)\n",
        "vd=vect.vocabulary_"
      ],
      "metadata": {
        "id": "glI5DNPCskxb"
      },
      "execution_count": null,
      "outputs": []
    },
    {
      "cell_type": "code",
      "source": [
        "print(\"Vocabulary: \", vd)"
      ],
      "metadata": {
        "colab": {
          "base_uri": "https://localhost:8080/"
        },
        "id": "XEXpve7RsmBw",
        "outputId": "9207609c-e2eb-4b72-8985-4248ccd12afd"
      },
      "execution_count": null,
      "outputs": [
        {
          "output_type": "stream",
          "name": "stdout",
          "text": [
            "Vocabulary:  {'game': 3, 'thrones': 6, 'amazing': 0, 'tv': 7, 'series': 5, 'best': 1, 'great': 4, 'boring': 2}\n"
          ]
        }
      ]
    },
    {
      "cell_type": "code",
      "source": [
        "v1=v.toarray()\n",
        "c=list(vd.keys())\n",
        "df=pd.DataFrame(v1,columns=c)\n",
        "display(df)"
      ],
      "metadata": {
        "colab": {
          "base_uri": "https://localhost:8080/",
          "height": 175
        },
        "id": "lQF8tNI2snD4",
        "outputId": "d69fcd38-96fd-4517-e350-9f338701eeea"
      },
      "execution_count": null,
      "outputs": [
        {
          "output_type": "display_data",
          "data": {
            "text/plain": [
              "   game  thrones  amazing  tv  series  best  great  boring\n",
              "0     1        0        0   1       0     1      1       1\n",
              "1     0        1        0   1       0     1      1       1\n",
              "2     0        0        0   1       1     0      1       0\n",
              "3     0        0        1   1       0     1      1       0"
            ],
            "text/html": [
              "\n",
              "  <div id=\"df-089ff5d6-5e12-47db-95b4-a56c7e3c4154\">\n",
              "    <div class=\"colab-df-container\">\n",
              "      <div>\n",
              "<style scoped>\n",
              "    .dataframe tbody tr th:only-of-type {\n",
              "        vertical-align: middle;\n",
              "    }\n",
              "\n",
              "    .dataframe tbody tr th {\n",
              "        vertical-align: top;\n",
              "    }\n",
              "\n",
              "    .dataframe thead th {\n",
              "        text-align: right;\n",
              "    }\n",
              "</style>\n",
              "<table border=\"1\" class=\"dataframe\">\n",
              "  <thead>\n",
              "    <tr style=\"text-align: right;\">\n",
              "      <th></th>\n",
              "      <th>game</th>\n",
              "      <th>thrones</th>\n",
              "      <th>amazing</th>\n",
              "      <th>tv</th>\n",
              "      <th>series</th>\n",
              "      <th>best</th>\n",
              "      <th>great</th>\n",
              "      <th>boring</th>\n",
              "    </tr>\n",
              "  </thead>\n",
              "  <tbody>\n",
              "    <tr>\n",
              "      <th>0</th>\n",
              "      <td>1</td>\n",
              "      <td>0</td>\n",
              "      <td>0</td>\n",
              "      <td>1</td>\n",
              "      <td>0</td>\n",
              "      <td>1</td>\n",
              "      <td>1</td>\n",
              "      <td>1</td>\n",
              "    </tr>\n",
              "    <tr>\n",
              "      <th>1</th>\n",
              "      <td>0</td>\n",
              "      <td>1</td>\n",
              "      <td>0</td>\n",
              "      <td>1</td>\n",
              "      <td>0</td>\n",
              "      <td>1</td>\n",
              "      <td>1</td>\n",
              "      <td>1</td>\n",
              "    </tr>\n",
              "    <tr>\n",
              "      <th>2</th>\n",
              "      <td>0</td>\n",
              "      <td>0</td>\n",
              "      <td>0</td>\n",
              "      <td>1</td>\n",
              "      <td>1</td>\n",
              "      <td>0</td>\n",
              "      <td>1</td>\n",
              "      <td>0</td>\n",
              "    </tr>\n",
              "    <tr>\n",
              "      <th>3</th>\n",
              "      <td>0</td>\n",
              "      <td>0</td>\n",
              "      <td>1</td>\n",
              "      <td>1</td>\n",
              "      <td>0</td>\n",
              "      <td>1</td>\n",
              "      <td>1</td>\n",
              "      <td>0</td>\n",
              "    </tr>\n",
              "  </tbody>\n",
              "</table>\n",
              "</div>\n",
              "      <button class=\"colab-df-convert\" onclick=\"convertToInteractive('df-089ff5d6-5e12-47db-95b4-a56c7e3c4154')\"\n",
              "              title=\"Convert this dataframe to an interactive table.\"\n",
              "              style=\"display:none;\">\n",
              "        \n",
              "  <svg xmlns=\"http://www.w3.org/2000/svg\" height=\"24px\"viewBox=\"0 0 24 24\"\n",
              "       width=\"24px\">\n",
              "    <path d=\"M0 0h24v24H0V0z\" fill=\"none\"/>\n",
              "    <path d=\"M18.56 5.44l.94 2.06.94-2.06 2.06-.94-2.06-.94-.94-2.06-.94 2.06-2.06.94zm-11 1L8.5 8.5l.94-2.06 2.06-.94-2.06-.94L8.5 2.5l-.94 2.06-2.06.94zm10 10l.94 2.06.94-2.06 2.06-.94-2.06-.94-.94-2.06-.94 2.06-2.06.94z\"/><path d=\"M17.41 7.96l-1.37-1.37c-.4-.4-.92-.59-1.43-.59-.52 0-1.04.2-1.43.59L10.3 9.45l-7.72 7.72c-.78.78-.78 2.05 0 2.83L4 21.41c.39.39.9.59 1.41.59.51 0 1.02-.2 1.41-.59l7.78-7.78 2.81-2.81c.8-.78.8-2.07 0-2.86zM5.41 20L4 18.59l7.72-7.72 1.47 1.35L5.41 20z\"/>\n",
              "  </svg>\n",
              "      </button>\n",
              "      \n",
              "  <style>\n",
              "    .colab-df-container {\n",
              "      display:flex;\n",
              "      flex-wrap:wrap;\n",
              "      gap: 12px;\n",
              "    }\n",
              "\n",
              "    .colab-df-convert {\n",
              "      background-color: #E8F0FE;\n",
              "      border: none;\n",
              "      border-radius: 50%;\n",
              "      cursor: pointer;\n",
              "      display: none;\n",
              "      fill: #1967D2;\n",
              "      height: 32px;\n",
              "      padding: 0 0 0 0;\n",
              "      width: 32px;\n",
              "    }\n",
              "\n",
              "    .colab-df-convert:hover {\n",
              "      background-color: #E2EBFA;\n",
              "      box-shadow: 0px 1px 2px rgba(60, 64, 67, 0.3), 0px 1px 3px 1px rgba(60, 64, 67, 0.15);\n",
              "      fill: #174EA6;\n",
              "    }\n",
              "\n",
              "    [theme=dark] .colab-df-convert {\n",
              "      background-color: #3B4455;\n",
              "      fill: #D2E3FC;\n",
              "    }\n",
              "\n",
              "    [theme=dark] .colab-df-convert:hover {\n",
              "      background-color: #434B5C;\n",
              "      box-shadow: 0px 1px 3px 1px rgba(0, 0, 0, 0.15);\n",
              "      filter: drop-shadow(0px 1px 2px rgba(0, 0, 0, 0.3));\n",
              "      fill: #FFFFFF;\n",
              "    }\n",
              "  </style>\n",
              "\n",
              "      <script>\n",
              "        const buttonEl =\n",
              "          document.querySelector('#df-089ff5d6-5e12-47db-95b4-a56c7e3c4154 button.colab-df-convert');\n",
              "        buttonEl.style.display =\n",
              "          google.colab.kernel.accessAllowed ? 'block' : 'none';\n",
              "\n",
              "        async function convertToInteractive(key) {\n",
              "          const element = document.querySelector('#df-089ff5d6-5e12-47db-95b4-a56c7e3c4154');\n",
              "          const dataTable =\n",
              "            await google.colab.kernel.invokeFunction('convertToInteractive',\n",
              "                                                     [key], {});\n",
              "          if (!dataTable) return;\n",
              "\n",
              "          const docLinkHtml = 'Like what you see? Visit the ' +\n",
              "            '<a target=\"_blank\" href=https://colab.research.google.com/notebooks/data_table.ipynb>data table notebook</a>'\n",
              "            + ' to learn more about interactive tables.';\n",
              "          element.innerHTML = '';\n",
              "          dataTable['output_type'] = 'display_data';\n",
              "          await google.colab.output.renderOutput(dataTable, element);\n",
              "          const docLink = document.createElement('div');\n",
              "          docLink.innerHTML = docLinkHtml;\n",
              "          element.appendChild(docLink);\n",
              "        }\n",
              "      </script>\n",
              "    </div>\n",
              "  </div>\n",
              "  "
            ]
          },
          "metadata": {}
        }
      ]
    },
    {
      "cell_type": "markdown",
      "source": [
        "## Conclusion: TFIDF is better comapred to bag of words as BOW is mainly focused on the count rather than the importance of the word in that text."
      ],
      "metadata": {
        "id": "5mnlEOfqsq3L"
      }
    }
  ]
}