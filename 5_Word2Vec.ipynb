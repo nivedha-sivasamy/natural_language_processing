{
  "nbformat": 4,
  "nbformat_minor": 0,
  "metadata": {
    "colab": {
      "provenance": []
    },
    "kernelspec": {
      "name": "python3",
      "display_name": "Python 3"
    },
    "language_info": {
      "name": "python"
    }
  },
  "cells": [
    {
      "cell_type": "markdown",
      "source": [
        "# Word2Vec\n",
        "\n",
        "## Aim: To implement a program to convert words to vectors using Continuous bag of words and find the cosine similarity."
      ],
      "metadata": {
        "id": "Fjas1xCmjjgq"
      }
    },
    {
      "cell_type": "code",
      "source": [
        "from google.colab import drive\n",
        "drive.mount('/content/drive')"
      ],
      "metadata": {
        "colab": {
          "base_uri": "https://localhost:8080/"
        },
        "id": "JrUTC43AiG9L",
        "outputId": "a2c4cf5f-259c-4fb6-953e-6a4e567728e9"
      },
      "execution_count": null,
      "outputs": [
        {
          "output_type": "stream",
          "name": "stdout",
          "text": [
            "Mounted at /content/drive\n"
          ]
        }
      ]
    },
    {
      "cell_type": "code",
      "source": [
        "from gensim.models import Word2Vec\n",
        "import pandas as pd\n",
        "import nltk\n",
        "from nltk.corpus import stopwords\n",
        "from nltk.tokenize import sent_tokenize, word_tokenize\n",
        "import re\n",
        "from nltk.tokenize import RegexpTokenizer\n",
        "\n",
        "import warnings\n",
        "warnings.filterwarnings('ignore')"
      ],
      "metadata": {
        "id": "JIdfZTVuoFvC"
      },
      "execution_count": null,
      "outputs": []
    },
    {
      "cell_type": "code",
      "source": [
        "nltk.download('stopwords')\n",
        "nltk.download('punkt')"
      ],
      "metadata": {
        "colab": {
          "base_uri": "https://localhost:8080/"
        },
        "id": "lSC44Uqvn5qb",
        "outputId": "80586a08-7186-410e-8004-1e6f95ab8b82"
      },
      "execution_count": null,
      "outputs": [
        {
          "output_type": "stream",
          "name": "stderr",
          "text": [
            "[nltk_data] Downloading package stopwords to /root/nltk_data...\n",
            "[nltk_data]   Unzipping corpora/stopwords.zip.\n",
            "[nltk_data] Downloading package punkt to /root/nltk_data...\n",
            "[nltk_data]   Unzipping tokenizers/punkt.zip.\n"
          ]
        },
        {
          "output_type": "execute_result",
          "data": {
            "text/plain": [
              "True"
            ]
          },
          "metadata": {},
          "execution_count": 3
        }
      ]
    },
    {
      "cell_type": "code",
      "source": [
        "path= '/content/drive/MyDrive/Colab Notebooks/3rd sem DL/word2vec.txt'"
      ],
      "metadata": {
        "id": "8y8qmA7biY6q"
      },
      "execution_count": null,
      "outputs": []
    },
    {
      "cell_type": "code",
      "source": [
        "text = open(path)\n",
        "t = text.read()\n",
        "\n",
        "print(t)"
      ],
      "metadata": {
        "colab": {
          "base_uri": "https://localhost:8080/"
        },
        "id": "tfGaEUJoiY4b",
        "outputId": "1c4f1895-14ad-4d3f-e9c5-bee2bd4d0272"
      },
      "execution_count": null,
      "outputs": [
        {
          "output_type": "stream",
          "name": "stdout",
          "text": [
            "Artificial intelligence (AI) is intelligence—perceiving, synthesizing, \n",
            "and inferring information—demonstrated by machines, as opposed to \n",
            "intelligence displayed by non-human animals and humans. Example tasks in which this is done include speech \n",
            "recognition, computer vision, translation between (natural) languages, as well as \n",
            "other mappings of inputs. AI applications include advanced web search engines \n",
            "(e.g., Google Search), recommendation systems (used by YouTube, Amazon and Netflix), \n",
            "understanding human speech (such as Siri and Alexa), self-driving cars (e.g., Waymo), \n",
            "automated decision-making and competing at the highest level in strategic game systems \n",
            "(such as chess and Go). As machines become increasingly capable, tasks considered \n",
            "to require \"intelligence\" are often removed from the definition of AI, a phenomenon \n",
            "known as the AI effect. For instance, optical character recognition is frequently \n",
            "excluded from things considered to be AI, having become a routine technology.\n",
            "Artificial intelligence was founded as an academic discipline in 1956, and in the \n",
            "years since has experienced several waves of optimism, followed by \n",
            "disappointment and the loss of funding (known as an \"AI winter\"), followed by \n",
            "new approaches, success and renewed funding. AI research has tried and \n",
            "discarded many different approaches since its founding, including simulating the \n",
            "brain, modeling human problem solving, formal logic, large databases of knowledge and \n",
            "imitating animal behavior. In the first decades of the 21st century, highly \n",
            "mathematical-statistical machine learning has dominated the field, and this technique \n",
            "has proved highly successful, helping to solve many challenging problems throughout \n",
            "industry and academia. The various sub-fields of AI research are centered \n",
            "around particular goals and the use of particular tools. The traditional goals of AI \n",
            "research include reasoning, knowledge representation, planning, learning, natural \n",
            "language processing, perception, and the ability to move and manipulate objects. \n",
            "General intelligence (the ability to solve an arbitrary problem) is among the field's \n",
            "long-term goals. To solve these problems, AI researchers have adapted and \n",
            "integrated a wide range of problem-solving techniques – including search and \n",
            "mathematical optimization, formal logic, artificial neural networks, and methods \n",
            "based on statistics, probability and economics. AI also draws upon computer science, \n",
            "psychology, linguistics, philosophy, and many other fields.\n",
            "The field was founded on the assumption that human intelligence \"can be so precisely \n",
            "described that a machine can be made to simulate it\". This raised philosophical \n",
            "arguments about the mind and the ethical consequences of creating artificial beings \n",
            "endowed with human-like intelligence; these issues have previously been explored by \n",
            "myth, fiction and philosophy since antiquity.Computer scientists and philosophers \n",
            "have since suggested that AI may become an existential risk to humanity if its \n",
            "rational capacities are not steered towards beneficial goals.\n"
          ]
        }
      ]
    },
    {
      "cell_type": "code",
      "source": [
        "txt = t.replace(\"\\n\", \" \")\n",
        "\n",
        "print(txt)"
      ],
      "metadata": {
        "colab": {
          "base_uri": "https://localhost:8080/"
        },
        "id": "iVPNMp15ig9Q",
        "outputId": "58103225-c2b0-4835-e4a3-e4002cbe8d37"
      },
      "execution_count": null,
      "outputs": [
        {
          "output_type": "stream",
          "name": "stdout",
          "text": [
            "Artificial intelligence (AI) is intelligence—perceiving, synthesizing,  and inferring information—demonstrated by machines, as opposed to  intelligence displayed by non-human animals and humans. Example tasks in which this is done include speech  recognition, computer vision, translation between (natural) languages, as well as  other mappings of inputs. AI applications include advanced web search engines  (e.g., Google Search), recommendation systems (used by YouTube, Amazon and Netflix),  understanding human speech (such as Siri and Alexa), self-driving cars (e.g., Waymo),  automated decision-making and competing at the highest level in strategic game systems  (such as chess and Go). As machines become increasingly capable, tasks considered  to require \"intelligence\" are often removed from the definition of AI, a phenomenon  known as the AI effect. For instance, optical character recognition is frequently  excluded from things considered to be AI, having become a routine technology. Artificial intelligence was founded as an academic discipline in 1956, and in the  years since has experienced several waves of optimism, followed by  disappointment and the loss of funding (known as an \"AI winter\"), followed by  new approaches, success and renewed funding. AI research has tried and  discarded many different approaches since its founding, including simulating the  brain, modeling human problem solving, formal logic, large databases of knowledge and  imitating animal behavior. In the first decades of the 21st century, highly  mathematical-statistical machine learning has dominated the field, and this technique  has proved highly successful, helping to solve many challenging problems throughout  industry and academia. The various sub-fields of AI research are centered  around particular goals and the use of particular tools. The traditional goals of AI  research include reasoning, knowledge representation, planning, learning, natural  language processing, perception, and the ability to move and manipulate objects.  General intelligence (the ability to solve an arbitrary problem) is among the field's  long-term goals. To solve these problems, AI researchers have adapted and  integrated a wide range of problem-solving techniques – including search and  mathematical optimization, formal logic, artificial neural networks, and methods  based on statistics, probability and economics. AI also draws upon computer science,  psychology, linguistics, philosophy, and many other fields. The field was founded on the assumption that human intelligence \"can be so precisely  described that a machine can be made to simulate it\". This raised philosophical  arguments about the mind and the ethical consequences of creating artificial beings  endowed with human-like intelligence; these issues have previously been explored by  myth, fiction and philosophy since antiquity.Computer scientists and philosophers  have since suggested that AI may become an existential risk to humanity if its  rational capacities are not steered towards beneficial goals.\n"
          ]
        }
      ]
    },
    {
      "cell_type": "code",
      "source": [
        "def reg_tokenize(i):\n",
        "  tn = RegexpTokenizer(r'\\w+')\n",
        "  token = tn.tokenize(i)\n",
        "  return(token)"
      ],
      "metadata": {
        "id": "POKlW1BSirIU"
      },
      "execution_count": null,
      "outputs": []
    },
    {
      "cell_type": "code",
      "source": [
        "data = []\n",
        "\n",
        "# iterate through each sentence in the file\n",
        "for i in sent_tokenize(txt):\n",
        "    temp = []\n",
        "\n",
        "    # tokenize the sentence into words\n",
        "    for j in reg_tokenize(i):\n",
        "        temp.append(j.lower())\n",
        "\n",
        "    data.append(temp)\n",
        "\n",
        "print(data)"
      ],
      "metadata": {
        "colab": {
          "base_uri": "https://localhost:8080/"
        },
        "id": "vLTtdkSWiswo",
        "outputId": "98412dde-7ffa-4f32-d57e-08cba5af7ae5"
      },
      "execution_count": null,
      "outputs": [
        {
          "output_type": "stream",
          "name": "stdout",
          "text": [
            "[['artificial', 'intelligence', 'ai', 'is', 'intelligence', 'perceiving', 'synthesizing', 'and', 'inferring', 'information', 'demonstrated', 'by', 'machines', 'as', 'opposed', 'to', 'intelligence', 'displayed', 'by', 'non', 'human', 'animals', 'and', 'humans'], ['example', 'tasks', 'in', 'which', 'this', 'is', 'done', 'include', 'speech', 'recognition', 'computer', 'vision', 'translation', 'between', 'natural', 'languages', 'as', 'well', 'as', 'other', 'mappings', 'of', 'inputs'], ['ai', 'applications', 'include', 'advanced', 'web', 'search', 'engines', 'e', 'g', 'google', 'search', 'recommendation', 'systems', 'used', 'by', 'youtube', 'amazon', 'and', 'netflix', 'understanding', 'human', 'speech', 'such', 'as', 'siri', 'and', 'alexa', 'self', 'driving', 'cars', 'e', 'g', 'waymo', 'automated', 'decision', 'making', 'and', 'competing', 'at', 'the', 'highest', 'level', 'in', 'strategic', 'game', 'systems', 'such', 'as', 'chess', 'and', 'go'], ['as', 'machines', 'become', 'increasingly', 'capable', 'tasks', 'considered', 'to', 'require', 'intelligence', 'are', 'often', 'removed', 'from', 'the', 'definition', 'of', 'ai', 'a', 'phenomenon', 'known', 'as', 'the', 'ai', 'effect'], ['for', 'instance', 'optical', 'character', 'recognition', 'is', 'frequently', 'excluded', 'from', 'things', 'considered', 'to', 'be', 'ai', 'having', 'become', 'a', 'routine', 'technology'], ['artificial', 'intelligence', 'was', 'founded', 'as', 'an', 'academic', 'discipline', 'in', '1956', 'and', 'in', 'the', 'years', 'since', 'has', 'experienced', 'several', 'waves', 'of', 'optimism', 'followed', 'by', 'disappointment', 'and', 'the', 'loss', 'of', 'funding', 'known', 'as', 'an', 'ai', 'winter', 'followed', 'by', 'new', 'approaches', 'success', 'and', 'renewed', 'funding'], ['ai', 'research', 'has', 'tried', 'and', 'discarded', 'many', 'different', 'approaches', 'since', 'its', 'founding', 'including', 'simulating', 'the', 'brain', 'modeling', 'human', 'problem', 'solving', 'formal', 'logic', 'large', 'databases', 'of', 'knowledge', 'and', 'imitating', 'animal', 'behavior'], ['in', 'the', 'first', 'decades', 'of', 'the', '21st', 'century', 'highly', 'mathematical', 'statistical', 'machine', 'learning', 'has', 'dominated', 'the', 'field', 'and', 'this', 'technique', 'has', 'proved', 'highly', 'successful', 'helping', 'to', 'solve', 'many', 'challenging', 'problems', 'throughout', 'industry', 'and', 'academia'], ['the', 'various', 'sub', 'fields', 'of', 'ai', 'research', 'are', 'centered', 'around', 'particular', 'goals', 'and', 'the', 'use', 'of', 'particular', 'tools'], ['the', 'traditional', 'goals', 'of', 'ai', 'research', 'include', 'reasoning', 'knowledge', 'representation', 'planning', 'learning', 'natural', 'language', 'processing', 'perception', 'and', 'the', 'ability', 'to', 'move', 'and', 'manipulate', 'objects'], ['general', 'intelligence', 'the', 'ability', 'to', 'solve', 'an', 'arbitrary', 'problem', 'is', 'among', 'the', 'field', 's', 'long', 'term', 'goals'], ['to', 'solve', 'these', 'problems', 'ai', 'researchers', 'have', 'adapted', 'and', 'integrated', 'a', 'wide', 'range', 'of', 'problem', 'solving', 'techniques', 'including', 'search', 'and', 'mathematical', 'optimization', 'formal', 'logic', 'artificial', 'neural', 'networks', 'and', 'methods', 'based', 'on', 'statistics', 'probability', 'and', 'economics'], ['ai', 'also', 'draws', 'upon', 'computer', 'science', 'psychology', 'linguistics', 'philosophy', 'and', 'many', 'other', 'fields'], ['the', 'field', 'was', 'founded', 'on', 'the', 'assumption', 'that', 'human', 'intelligence', 'can', 'be', 'so', 'precisely', 'described', 'that', 'a', 'machine', 'can', 'be', 'made', 'to', 'simulate', 'it'], ['this', 'raised', 'philosophical', 'arguments', 'about', 'the', 'mind', 'and', 'the', 'ethical', 'consequences', 'of', 'creating', 'artificial', 'beings', 'endowed', 'with', 'human', 'like', 'intelligence', 'these', 'issues', 'have', 'previously', 'been', 'explored', 'by', 'myth', 'fiction', 'and', 'philosophy', 'since', 'antiquity', 'computer', 'scientists', 'and', 'philosophers', 'have', 'since', 'suggested', 'that', 'ai', 'may', 'become', 'an', 'existential', 'risk', 'to', 'humanity', 'if', 'its', 'rational', 'capacities', 'are', 'not', 'steered', 'towards', 'beneficial', 'goals']]\n"
          ]
        }
      ]
    },
    {
      "cell_type": "code",
      "source": [
        "# Create CBOW model\n",
        "vec_model =Word2Vec(data, min_count = 1,\n",
        "\t\t\t\t\t\t\t                      #vector_size = 100,\n",
        "                                     window = 5)"
      ],
      "metadata": {
        "colab": {
          "base_uri": "https://localhost:8080/"
        },
        "id": "9hMPH8Hpiug8",
        "outputId": "e840edfa-dadd-464a-87e7-b27310b389d3"
      },
      "execution_count": null,
      "outputs": [
        {
          "output_type": "stream",
          "name": "stderr",
          "text": [
            "WARNING:gensim.models.base_any2vec:under 10 jobs per worker: consider setting a smaller `batch_words' for smoother alpha decay\n"
          ]
        }
      ]
    },
    {
      "cell_type": "code",
      "source": [
        "vocabulary = vec_model.wv.vocab"
      ],
      "metadata": {
        "id": "TBMrJ8fCiv2G"
      },
      "execution_count": null,
      "outputs": []
    },
    {
      "cell_type": "code",
      "source": [
        "similar_words = vec_model.wv.most_similar('artificial')\n",
        "similar_words"
      ],
      "metadata": {
        "colab": {
          "base_uri": "https://localhost:8080/"
        },
        "id": "OtR4cgQMiykE",
        "outputId": "dae2e49f-73fc-40ba-aa54-feaf61552ec7"
      },
      "execution_count": null,
      "outputs": [
        {
          "output_type": "execute_result",
          "data": {
            "text/plain": [
              "[('been', 0.27575528621673584),\n",
              " ('technology', 0.25789445638656616),\n",
              " ('researchers', 0.24624405801296234),\n",
              " ('problem', 0.22996428608894348),\n",
              " ('helping', 0.22895148396492004),\n",
              " ('web', 0.1951235830783844),\n",
              " ('alexa', 0.19470663368701935),\n",
              " ('waves', 0.18624842166900635),\n",
              " ('use', 0.1827910840511322),\n",
              " ('instance', 0.18244202435016632)]"
            ]
          },
          "metadata": {},
          "execution_count": 11
        }
      ]
    },
    {
      "cell_type": "code",
      "source": [
        "# Print results\n",
        "print(\"Cosine similarity between 'human' \" +\"and 'intelligence' - CBOW : \",\n",
        "\t      vec_model.wv.similarity('human', 'intelligence'))\n"
      ],
      "metadata": {
        "colab": {
          "base_uri": "https://localhost:8080/"
        },
        "id": "f9RKdl0Ji0IY",
        "outputId": "4ecacbad-707d-45d6-b074-7904ff95fbab"
      },
      "execution_count": null,
      "outputs": [
        {
          "output_type": "stream",
          "name": "stdout",
          "text": [
            "Cosine similarity between 'human' and 'intelligence' - CBOW :  -0.13147347\n"
          ]
        }
      ]
    },
    {
      "cell_type": "markdown",
      "source": [
        "## Conclusion: The cosine similarity is not accurate so we will have to increase the size of our corpus to find better similarity."
      ],
      "metadata": {
        "id": "hhbzuhXUjV5H"
      }
    }
  ]
}