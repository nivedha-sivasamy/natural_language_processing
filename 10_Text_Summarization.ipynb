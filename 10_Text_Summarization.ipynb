{
  "nbformat": 4,
  "nbformat_minor": 0,
  "metadata": {
    "colab": {
      "provenance": []
    },
    "kernelspec": {
      "name": "python3",
      "display_name": "Python 3"
    },
    "language_info": {
      "name": "python"
    }
  },
  "cells": [
    {
      "cell_type": "markdown",
      "source": [
        "# Text Summarization\n",
        "\n",
        "## Aim: To perform text summarization for a given article\n",
        "## Dataset: Wikipedia article"
      ],
      "metadata": {
        "id": "SCrsO_Rg1p15"
      }
    },
    {
      "cell_type": "code",
      "source": [
        "import gensim\n",
        "from gensim.summarization import summarize"
      ],
      "metadata": {
        "id": "q6QkBo017IEe"
      },
      "execution_count": null,
      "outputs": []
    },
    {
      "cell_type": "code",
      "source": [
        "f=open('/content/drive/MyDrive/summary.txt','r')\n",
        "txt=f.read()\n",
        "print(txt)"
      ],
      "metadata": {
        "colab": {
          "base_uri": "https://localhost:8080/"
        },
        "id": "E6fAjU8f9EEz",
        "outputId": "08493ccd-4aaa-42f4-94ef-d5f08bec239e"
      },
      "execution_count": null,
      "outputs": [
        {
          "output_type": "stream",
          "name": "stdout",
          "text": [
            "'''The oldest of the Dravidian languages, Tamil is at once a classical \n",
            "language like Sanskrit and a modern language like other Indian languages. Tamil \n",
            "literature has had unbroken development over twenty centuries. Dating ancient \n",
            "Tamil literature is however, a problem. Most scholars agree that the Tolkappiyam \n",
            "is the earliest extant Tamil grammar and literary work, as some of its archaic \n",
            "structures and considerations of style place it earlier than what has come to be \n",
            "called Sangam literature. So it would be reasonable to accept its date as \n",
            "somewhere round the third century BC. But some scholars place it as late as \n",
            "fourth or fifth century AD. This work may be called the fountainhead of all \n",
            "literary conventions in Tamil literature. The influence of Sanskrit on it was \n",
            "peripheral. Tolkappiyar, who wrote it, is supposed to have been a disciple of \n",
            "Rishi Agastya, the purported author of the Agattiyam, a magnum opus and grammar \n",
            "of letters—which, however, is found only in small pieces quoted by medieval \n",
            "commentators. The earliest known phase of Tamil literature is termed Sangam \n",
            "literature because the anthologies of odes, lyrics and idylls which form the \n",
            "major part of that literature were composed at a time when the Pandyan kings of \n",
            "Madurai maintained in their court a body of eminent poets, called ‘Sangam’ by \n",
            "later poets, who unofficially functioned as a board of literary critics and \n",
            "censors. The Sangam anthologies are in two parts—the Aham (dealing with love) \n",
            "and Puram (dealing with war). Much of the earlier work is lost but the Sangam \n",
            "literature is generally dated between 300 BC and AD 200. The anthologies that \n",
            "were made in about the fourth century AD to preserve the works are the Ten \n",
            "Idylls (Patirruppattu) and the Eight Anthologies (Ettuthogai). Thiruvalluvar’s \n",
            "Thirukkural, accepted as a work of great importance, has drawn from the \n",
            "Dharmasastra, the Arthasastra and the Kamasutra and is written in a \n",
            "masterful style. The Naladiyar is an anthology in the venba metre. The Palamoli \n",
            "by Munrurai Araiyar adopts the novel method of exemplifying morals by proverbs. \n",
            "The epics Silappadikaram by Ilango Adigal and Manimekalai by Sattanar belong to \n",
            "the early centuries of the Christian era. There were three more epics written \n",
            "later in the series: Jivakachintamani (by a Jain author), Valayapati and \n",
            "Kundalakesi, out of which the last two are lost. The end of the Sangam age saw \n",
            "the advent of devotional poetry, Shaiva and Vaishnava. The Shaiva hymnologist \n",
            "Tirunjanasambandar wrote several Tevaram hymns. The other Shaiva Nayanas are \n",
            "Thirunanukkarasar, Sundarar and Manikkavachakar (who wrote Thiruvachakam). \n",
            "The Alvars were of the Vaishnava tradition, the most famous of them being \n",
            "Nammalvar (Tiruvaymoli) and Andal (Thiruppavai). The Vaishnava poets’ work is \n",
            "called the Divya Prabandha. Ottakuttan was the poet-laureate of the Chola court. \n",
            "The village of Kuttanur in Thanjavur district is dedicated to this poet. Kamban \n",
            "rendered the Ramayana in Tamil. He called it Ramanataka. Not a mere translation \n",
            "by any means, it is a celebrated work on its own with original touches in plot, \n",
            "construction and characterisation. After the Cholas and Pandyas the literature \n",
            "in Tamil showed a decline. But in the fifteenth century Arunagirinathar composed \n",
            "the famous Tiruppugazh. Vaishnava scholars of this period wrote elaborate \n",
            "commentaries on religious texts; personalities like Vedanta Desikar, Manavala \n",
            "Mahamini, Pillai Lokacharya were patronised by the discerning Tirumala Nayaka \n",
            "of Madurai. Brilliant commentaries were written on the Tolkappiyam and the Kural. \n",
            "Christian and Islamic influences on Tamil literature are to be perceived in the \n",
            "18th century. Umaruppulavar wrote a life of Prophet Mohammad in verse, \n",
            "Sirappuranam. Christian missionaries like Father Beschi introduced modern prose \n",
            "as a form of writing in Tamil. His Tembavani is an epic on the life of St Joseph. \n",
            "His Aviveka Purna Guru Kathai may be called the forerunner of the short story in \n",
            "Tamil. Vedanayagam Pillai and Krishna Pillai are two Christian poets in Tamil. \n",
            "Other works of note in this period were Rajappa Kavirayar’s Kuttala- tala-puranam \n",
            "and Kurrala-kuravanchi, and Sivajnana Munivar’s Mapadiyam, a commentary on the \n",
            "Siva-Jnana-Bodam. R. Caldwell and G.M. Pope did much to project Tamil to the \n",
            "world at large through English studies and translations of Tamil classics. \n",
            "Vedanayakam Pillai’s Pratapa Mudaliyar Charitram was the first novel in Tamil. \n",
            "During the eighteenth and the nineteenth centuries Tamil Nadu witnessed changes \n",
            "in the political scene. The Tamil society underwent a deep cultural shock with \n",
            "the imposition of Western cultural influences. Shaiva monasteries attempted to \n",
            "safeguard the Tamil cultural values. The Shaiva monasteries at Tiruvavaduthurai, \n",
            "Dharmapuram, Thiruppananthal and Kundrakudi had teachers like Meenakshi Sundaram \n",
            "Pillai (1815-1876) who wrote more than eighty books consisting of over 200,000 poems. \n",
            "Gopalakrishna Bharathi wrote numerous poems and lyrics set to time in Carnatic music \n",
            "(Nandan Charitam, Periyapuranam). Ramalinga Adigal (Vallalar) (1823- 1874) wrote\n",
            " the devotional poem Tiruvarutpa; Maraimalai Adigal (1876-1950) advocated for \n",
            " the purity of Tamil; and Subramanya Bharathi wrote works on progressive themes \n",
            " like freedom and feminism. He introduced a new poetic style into the somewhat \n",
            " rigid style of Tamil poetry writing, which had followed the rules set down in \n",
            " the Tolkaappiyam in his Puthukkavithai. He wrote Tamil prose in the form of \n",
            " commentaries, editorials, short stories and novels. Bharathidasan was a noted \n",
            " poet. U.V. Swaminatha Iyer was foremost in the revival of interest in the \n",
            " Sangam age literature; he collected, deciphered and published ancient books \n",
            " such as Cilappatikaram and Kuruntokai. He published over 90 books and wrote \n",
            " En caritham, an autobiography. The novel as a genre of literature arrived in \n",
            " Tamil in the latter half of the nineteenth century. Mayuram Vedanayagam Pillai \n",
            " wrote the first Tamil novel Prathapa Mudaliar Charithram (1879), an assortment \n",
            " of fables, folk tales and even Greek and Roman stories. Kamalambal Charitram \n",
            " was penned by B.R. Rajam Iyer in 1893 and Padmavathi Charitram by A. Madhaviah \n",
            " in 1898. These two portray the life of Brahmins in 19th-century rural Tamil \n",
            " Nadu, capturing their customs and habits, beliefs and rituals. D. Jayakanthan \n",
            " may be seen as the real trendsetter in modern-day Tamil novels. His literature \n",
            " presents a deep and sensitive understanding of complex human nature and Indian \n",
            " social reality. Since the 1990s writers like Jeyamohan, S.Ramakrishnan and \n",
            " Charu Nivedita have emerged. Novels translated from other languages have also \n",
            " been popular (Urumaatram, translation of Franz Kafka’s Metamorphosis; \n",
            " Siluvayil Thongum Saathaan, translation of Devil on the Cross by Ngugi wa \n",
            " Thiango; Thoongum Azhagigalin Illam, translation of House of Sleeping Beauties \n",
            " by Yasunari Kawabata). Amarantha, Latha, and Ramakrishnan have contributed in \n",
            " this sphere.'''\n"
          ]
        }
      ]
    },
    {
      "cell_type": "code",
      "source": [
        "short_summary = summarize(txt)\n",
        "print(short_summary)"
      ],
      "metadata": {
        "colab": {
          "base_uri": "https://localhost:8080/"
        },
        "id": "3j3CBIN69Ay9",
        "outputId": "381a2d21-782d-4b04-c126-4b27bbbf2636"
      },
      "execution_count": null,
      "outputs": [
        {
          "output_type": "stream",
          "name": "stdout",
          "text": [
            "literature has had unbroken development over twenty centuries.\n",
            "Tamil literature is however, a problem.\n",
            "is the earliest extant Tamil grammar and literary work, as some of its archaic \n",
            "called Sangam literature.\n",
            "literary conventions in Tamil literature.\n",
            "The earliest known phase of Tamil literature is termed Sangam \n",
            "literature because the anthologies of odes, lyrics and idylls which form the \n",
            "Madurai maintained in their court a body of eminent poets, called ‘Sangam’ by \n",
            "Much of the earlier work is lost but the Sangam \n",
            "were made in about the fourth century AD to preserve the works are the Ten \n",
            "the advent of devotional poetry, Shaiva and Vaishnava.\n",
            "Vaishnava scholars of this period wrote elaborate \n",
            "Christian and Islamic influences on Tamil literature are to be perceived in the \n",
            "Vedanayagam Pillai and Krishna Pillai are two Christian poets in Tamil.\n",
            "world at large through English studies and translations of Tamil classics.\n",
            "Vedanayakam Pillai’s Pratapa Mudaliyar Charitram was the first novel in Tamil.\n",
            "During the eighteenth and the nineteenth centuries Tamil Nadu witnessed changes \n",
            "Pillai (1815-1876) who wrote more than eighty books consisting of over 200,000 poems.\n",
            "the purity of Tamil; and Subramanya Bharathi wrote works on progressive themes \n",
            "rigid style of Tamil poetry writing, which had followed the rules set down in \n",
            "He wrote Tamil prose in the form of \n",
            "commentaries, editorials, short stories and novels.\n",
            "Sangam age literature; he collected, deciphered and published ancient books \n",
            "Tamil in the latter half of the nineteenth century.\n",
            "wrote the first Tamil novel Prathapa Mudaliar Charithram (1879), an assortment \n",
            "These two portray the life of Brahmins in 19th-century rural Tamil \n",
            "may be seen as the real trendsetter in modern-day Tamil novels.\n",
            "Novels translated from other languages have also \n"
          ]
        }
      ]
    },
    {
      "cell_type": "code",
      "source": [
        "ratio_summary = summarize(txt,ratio=0.10)\n",
        "print(ratio_summary)"
      ],
      "metadata": {
        "colab": {
          "base_uri": "https://localhost:8080/"
        },
        "id": "BO91GZ882h4g",
        "outputId": "be30779d-6b7b-4ee7-d2d3-c9fa43958de7"
      },
      "execution_count": null,
      "outputs": [
        {
          "output_type": "stream",
          "name": "stdout",
          "text": [
            "Tamil literature is however, a problem.\n",
            "is the earliest extant Tamil grammar and literary work, as some of its archaic \n",
            "called Sangam literature.\n",
            "literary conventions in Tamil literature.\n",
            "The earliest known phase of Tamil literature is termed Sangam \n",
            "literature because the anthologies of odes, lyrics and idylls which form the \n",
            "Christian and Islamic influences on Tamil literature are to be perceived in the \n",
            "Vedanayagam Pillai and Krishna Pillai are two Christian poets in Tamil.\n",
            "Vedanayakam Pillai’s Pratapa Mudaliyar Charitram was the first novel in Tamil.\n",
            "During the eighteenth and the nineteenth centuries Tamil Nadu witnessed changes \n",
            "the purity of Tamil; and Subramanya Bharathi wrote works on progressive themes \n",
            "He wrote Tamil prose in the form of \n",
            "Tamil in the latter half of the nineteenth century.\n",
            "wrote the first Tamil novel Prathapa Mudaliar Charithram (1879), an assortment \n"
          ]
        }
      ]
    },
    {
      "cell_type": "code",
      "source": [
        "word_summary = summarize(txt,word_count=250)\n",
        "print(word_summary)"
      ],
      "metadata": {
        "colab": {
          "base_uri": "https://localhost:8080/"
        },
        "id": "ZJ8T-jjx2rdh",
        "outputId": "d4899d6c-483f-4de1-b25f-a3bff5d9b9da"
      },
      "execution_count": null,
      "outputs": [
        {
          "output_type": "stream",
          "name": "stdout",
          "text": [
            "literature has had unbroken development over twenty centuries.\n",
            "Tamil literature is however, a problem.\n",
            "is the earliest extant Tamil grammar and literary work, as some of its archaic \n",
            "called Sangam literature.\n",
            "literary conventions in Tamil literature.\n",
            "The earliest known phase of Tamil literature is termed Sangam \n",
            "literature because the anthologies of odes, lyrics and idylls which form the \n",
            "Madurai maintained in their court a body of eminent poets, called ‘Sangam’ by \n",
            "Much of the earlier work is lost but the Sangam \n",
            "were made in about the fourth century AD to preserve the works are the Ten \n",
            "Vaishnava scholars of this period wrote elaborate \n",
            "Christian and Islamic influences on Tamil literature are to be perceived in the \n",
            "Vedanayagam Pillai and Krishna Pillai are two Christian poets in Tamil.\n",
            "world at large through English studies and translations of Tamil classics.\n",
            "Vedanayakam Pillai’s Pratapa Mudaliyar Charitram was the first novel in Tamil.\n",
            "During the eighteenth and the nineteenth centuries Tamil Nadu witnessed changes \n",
            "Pillai (1815-1876) who wrote more than eighty books consisting of over 200,000 poems.\n",
            "the purity of Tamil; and Subramanya Bharathi wrote works on progressive themes \n",
            "He wrote Tamil prose in the form of \n",
            "commentaries, editorials, short stories and novels.\n",
            "Sangam age literature; he collected, deciphered and published ancient books \n",
            "Tamil in the latter half of the nineteenth century.\n",
            "wrote the first Tamil novel Prathapa Mudaliar Charithram (1879), an assortment \n",
            "These two portray the life of Brahmins in 19th-century rural Tamil \n",
            "may be seen as the real trendsetter in modern-day Tamil novels.\n"
          ]
        }
      ]
    },
    {
      "cell_type": "markdown",
      "source": [
        "## Conclusion: Here we have performed 3 types of text summarization, one is without any parameters, the next with ratio of 10% and the last with word count of 250."
      ],
      "metadata": {
        "id": "e6hBUkpG2zI_"
      }
    }
  ]
}