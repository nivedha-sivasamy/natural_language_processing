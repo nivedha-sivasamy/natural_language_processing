{
  "nbformat": 4,
  "nbformat_minor": 0,
  "metadata": {
    "colab": {
      "provenance": []
    },
    "kernelspec": {
      "name": "python3",
      "display_name": "Python 3"
    },
    "language_info": {
      "name": "python"
    }
  },
  "cells": [
    {
      "cell_type": "markdown",
      "source": [
        "# Synonyms and Antonyms\n",
        "\n",
        "## Aim: To implement a program to find the synonyms and antonyms of a word"
      ],
      "metadata": {
        "id": "A6AJrnxkrXZM"
      }
    },
    {
      "cell_type": "code",
      "source": [
        "!pip install --upgrade nltk -q"
      ],
      "metadata": {
        "colab": {
          "base_uri": "https://localhost:8080/"
        },
        "id": "aIE_OmbSHoEt",
        "outputId": "85376ed1-203a-44f4-b947-e4c81bad08c8"
      },
      "execution_count": null,
      "outputs": [
        {
          "output_type": "stream",
          "name": "stdout",
          "text": [
            "\u001b[?25l     \u001b[90m━━━━━━━━━━━━━━━━━━━━━━━━━━━━━━━━━━━━━━━━\u001b[0m \u001b[32m0.0/1.5 MB\u001b[0m \u001b[31m?\u001b[0m eta \u001b[36m-:--:--\u001b[0m\r\u001b[2K     \u001b[91m━━━━━━━━━━━━━━━━━━━━━━━━━━━━━━━━━━━━━━━\u001b[0m\u001b[90m╺\u001b[0m \u001b[32m1.5/1.5 MB\u001b[0m \u001b[31m44.5 MB/s\u001b[0m eta \u001b[36m0:00:01\u001b[0m\r\u001b[2K     \u001b[90m━━━━━━━━━━━━━━━━━━━━━━━━━━━━━━━━━━━━━━━━\u001b[0m \u001b[32m1.5/1.5 MB\u001b[0m \u001b[31m29.9 MB/s\u001b[0m eta \u001b[36m0:00:00\u001b[0m\n",
            "\u001b[?25h"
          ]
        }
      ]
    },
    {
      "cell_type": "code",
      "source": [
        "import nltk\n",
        "from nltk.corpus import wordnet"
      ],
      "metadata": {
        "id": "mwo_L1FZIebr"
      },
      "execution_count": null,
      "outputs": []
    },
    {
      "cell_type": "code",
      "source": [
        "nltk.download('wordnet')\n",
        "nltk.download('omw-1.4')"
      ],
      "metadata": {
        "colab": {
          "base_uri": "https://localhost:8080/"
        },
        "id": "6ZN9i-NwIbub",
        "outputId": "cdcb7e04-fa1f-4942-9cbb-bc78a1728b92"
      },
      "execution_count": null,
      "outputs": [
        {
          "output_type": "stream",
          "name": "stderr",
          "text": [
            "[nltk_data] Downloading package wordnet to /root/nltk_data...\n",
            "[nltk_data]   Package wordnet is already up-to-date!\n",
            "[nltk_data] Downloading package omw-1.4 to /root/nltk_data...\n"
          ]
        },
        {
          "output_type": "execute_result",
          "data": {
            "text/plain": [
              "True"
            ]
          },
          "metadata": {},
          "execution_count": 12
        }
      ]
    },
    {
      "cell_type": "code",
      "source": [
        "def synonym(word):\n",
        "  syn=[]\n",
        "  for i in wordnet.synsets(word):\n",
        "    for j in i.lemmas():\n",
        "      syn.append(j.name())\n",
        "  print(f'The synonyms for the word {word} is :\\n{set(syn)}')\n",
        "  return set(syn)"
      ],
      "metadata": {
        "id": "0XrX2bPtHwpy"
      },
      "execution_count": null,
      "outputs": []
    },
    {
      "cell_type": "code",
      "source": [
        "b=synonym('worse')"
      ],
      "metadata": {
        "colab": {
          "base_uri": "https://localhost:8080/"
        },
        "id": "tOQI8TOpIpZ7",
        "outputId": "6e2b7722-e330-4e21-db0d-d724b7659c54"
      },
      "execution_count": null,
      "outputs": [
        {
          "output_type": "stream",
          "name": "stdout",
          "text": [
            "The synonyms for the word worse is :\n",
            "{'unsound', 'big', 'worse', 'tough', 'high-risk', 'spoilt', 'bad', 'regretful', 'risky', 'uncollectible', 'speculative', 'unfit', 'forged', 'defective', 'sorry', 'worsened', 'spoiled'}\n"
          ]
        }
      ]
    },
    {
      "cell_type": "code",
      "source": [
        "def antonym(word):\n",
        "  anm=[]\n",
        "  for i in wordnet.synsets(word):\n",
        "    for j in i.lemmas():\n",
        "      if j.antonyms():\n",
        "        anm.append(j.antonyms()[0].name())\n",
        "  print(f'The synonyms for the word {word} is :\\n{set(anm)}')\n",
        "  return set(anm)"
      ],
      "metadata": {
        "id": "OQrYnKIrJDya"
      },
      "execution_count": null,
      "outputs": []
    },
    {
      "cell_type": "code",
      "source": [
        "a=antonym('worse')"
      ],
      "metadata": {
        "colab": {
          "base_uri": "https://localhost:8080/"
        },
        "id": "aShfbzwwJfx8",
        "outputId": "736feda5-fee3-48eb-b85b-54fc44da7aa5"
      },
      "execution_count": null,
      "outputs": [
        {
          "output_type": "stream",
          "name": "stdout",
          "text": [
            "The synonyms for the word worse is :\n",
            "{'unregretful', 'good', 'better'}\n"
          ]
        }
      ]
    }
  ]
}